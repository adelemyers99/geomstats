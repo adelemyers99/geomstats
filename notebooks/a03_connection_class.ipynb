{
 "cells": [
  {
   "cell_type": "markdown",
   "id": "57539ed2",
   "metadata": {},
   "source": [
    "introduction to connection class"
   ]
  },
  {
   "cell_type": "markdown",
   "id": "2d2d5ec9",
   "metadata": {},
   "source": [
    "This notebook provides an overview of the $\\textbf{Connection}$ class in Geomstats. In general terms, the connection $\\nabla_{\\vec{u}} \\vec{v}$ is a mathematical concept which tells you how much vector $\\vec{v}$ would change if you moved it an infinitesimal distance in the direction of vector $\\vec{u}$. Before we define the connection in more precise terms, we will first have to define  $\\textbf{tangent spaces}$ and $\\textbf{parallel vector fields}$."
   ]
  },
  {
   "cell_type": "markdown",
   "id": "5013f8f6",
   "metadata": {},
   "source": [
    "(put picture here of a vector v moving in the direction of u, with v' in an arbitraty direction) (probably on a sphere is best.)"
   ]
  },
  {
   "cell_type": "markdown",
   "id": "1e73f01e",
   "metadata": {},
   "source": [
    "#ignore for now\n",
    "\n",
    "which utilizes the mathematical concept of a \"connection\" on a manifold. In general terms, the $\\textbf{Connection}$, denoted (insert connection symbol) tells us how one vector will change if you move it along another vector (to a different place on the manifold). In more mathematial terms the connection uses the notion of $\\textbf{parallelism} to \n",
    "\n",
    "tells us how one vector will change if you move it in the direction of another vector (to a different place on the manifold). Using more mathematical terms, the Connection uses the notion of $\\textbf{parallelism} to compare tangent spaces and how a vector would change if transported from one tangent space to another. Before you can understand exactly what this second definition means, we will first have to discuss what a tangent space is and what parallelism is."
   ]
  },
  {
   "cell_type": "markdown",
   "id": "b6665783",
   "metadata": {},
   "source": [
    "## Tangent spaces"
   ]
  },
  {
   "cell_type": "markdown",
   "id": "9a667abd",
   "metadata": {},
   "source": [
    "## Parallel Vector Fields"
   ]
  },
  {
   "cell_type": "markdown",
   "id": "ec6b7b28",
   "metadata": {},
   "source": [
    "# The Connection, in Detail"
   ]
  },
  {
   "cell_type": "markdown",
   "id": "47e1969b",
   "metadata": {},
   "source": [
    "## A more precise definition of the Connection"
   ]
  },
  {
   "cell_type": "markdown",
   "id": "73101d12",
   "metadata": {},
   "source": [
    "What does the Connection do?"
   ]
  },
  {
   "cell_type": "markdown",
   "id": "9454a638",
   "metadata": {},
   "source": [
    "Consider the following situation where you have two vectors in the same tangent space, stemming from the same point:"
   ]
  },
  {
   "cell_type": "markdown",
   "id": "6100c246",
   "metadata": {},
   "source": [
    "(show two vectors in the same tangent space, stemming from same point. label the vectors a and b)"
   ]
  },
  {
   "cell_type": "markdown",
   "id": "ad18d9ec",
   "metadata": {},
   "source": [
    "Now, suppose you want to see what vector a looks like when it moves to a different point on the manifold. This is not a trivial question. Each point on a manifold has its own set of basis vectors, which means that if a is transported to a different place on the manifold, it will not necessarily look the same."
   ]
  },
  {
   "cell_type": "markdown",
   "id": "5a978cd1",
   "metadata": {},
   "source": [
    "This is why the connection is necessary. The connection of a along b: (show connection symbol here) tells us how much a changes when you move a an infinitesmially small distance along u."
   ]
  },
  {
   "cell_type": "markdown",
   "id": "774e8cc5",
   "metadata": {},
   "source": [
    "## Mathematical description of the Connection"
   ]
  },
  {
   "cell_type": "markdown",
   "id": "c02722e3",
   "metadata": {},
   "source": [
    "(with christoffel symbols, go through what nina and i did in our meeting)"
   ]
  },
  {
   "cell_type": "markdown",
   "id": "524ac861",
   "metadata": {},
   "source": [
    "The Connection is mathematically described with the relation\n",
    "$\\beq "
   ]
  },
  {
   "cell_type": "markdown",
   "id": "e9214a47",
   "metadata": {},
   "source": [
    "## Properties of the Connection"
   ]
  },
  {
   "cell_type": "markdown",
   "id": "7a04bd73",
   "metadata": {},
   "source": [
    "(properties on pg 21)"
   ]
  },
  {
   "cell_type": "markdown",
   "id": "b2a87028",
   "metadata": {},
   "source": [
    "# The Connection Class in Geomstats"
   ]
  },
  {
   "cell_type": "markdown",
   "id": "43261a70",
   "metadata": {},
   "source": [
    "what does the connection class do in geomstats?"
   ]
  },
  {
   "cell_type": "code",
   "execution_count": 1,
   "id": "e730c4ef",
   "metadata": {},
   "outputs": [
    {
     "name": "stderr",
     "output_type": "stream",
     "text": [
      "INFO: Using numpy backend\n"
     ]
    }
   ],
   "source": [
    "import os\n",
    "import sys\n",
    "import warnings\n",
    "\n",
    "sys.path.append(os.path.dirname(os.getcwd()))\n",
    "warnings.filterwarnings(\"ignore\")\n",
    "\n",
    "import geomstats.backend as gs\n",
    "\n",
    "gs.random.seed(2020)"
   ]
  },
  {
   "cell_type": "code",
   "execution_count": 4,
   "id": "39c5014b",
   "metadata": {},
   "outputs": [
    {
     "name": "stdout",
     "output_type": "stream",
     "text": [
      "    def geodesic_equation(self, state, _time):\n",
      "        \"\"\"Compute the geodesic ODE associated with the connection.\n",
      "\n",
      "        Parameters\n",
      "        ----------\n",
      "        state : array-like, shape=[..., dim]\n",
      "            Tangent vector at the position.\n",
      "        _time : array-like, shape=[..., dim]\n",
      "            Point on the manifold, the position at which to compute the\n",
      "            geodesic ODE.\n",
      "\n",
      "        Returns\n",
      "        -------\n",
      "        geodesic_ode : array-like, shape=[..., dim]\n",
      "            Value of the vector field to be integrated at position.\n",
      "        \"\"\"\n",
      "        position, velocity = state\n",
      "        gamma = self.christoffels(position)\n",
      "        equation = gs.einsum(\"...kij,...i->...kj\", gamma, velocity)\n",
      "        equation = -gs.einsum(\"...kj,...j->...k\", equation, velocity)\n",
      "        return gs.stack([velocity, equation])\n"
     ]
    }
   ],
   "source": [
    "import inspect\n",
    "\n",
    "from geomstats.geometry.connection import Connection\n",
    "for line in inspect.getsourcelines(Connection.geodesic_equation)[0]:\n",
    "    line = line.replace('\\n','')\n",
    "    print(line)\n",
    "\n"
   ]
  },
  {
   "cell_type": "code",
   "execution_count": null,
   "id": "9b794aec",
   "metadata": {},
   "outputs": [],
   "source": []
  }
 ],
 "metadata": {
  "kernelspec": {
   "display_name": "Python 3 (ipykernel)",
   "language": "python",
   "name": "python3"
  },
  "language_info": {
   "codemirror_mode": {
    "name": "ipython",
    "version": 3
   },
   "file_extension": ".py",
   "mimetype": "text/x-python",
   "name": "python",
   "nbconvert_exporter": "python",
   "pygments_lexer": "ipython3",
   "version": "3.8.12"
  }
 },
 "nbformat": 4,
 "nbformat_minor": 5
}
