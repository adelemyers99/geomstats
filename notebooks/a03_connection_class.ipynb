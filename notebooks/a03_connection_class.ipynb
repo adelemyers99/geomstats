{
 "cells": [
  {
   "cell_type": "markdown",
   "id": "57539ed2",
   "metadata": {},
   "source": [
    "introduction to connection class"
   ]
  },
  {
   "cell_type": "markdown",
   "id": "53e8d770",
   "metadata": {},
   "source": [
    "This notebook provides an overview of the $\\textbf{Connection}$ class in Geomstats. In general terms, the connection $\\nabla_{\\vec{u}} \\vec{v}$ is a mathematical concept which tells you how much vector $\\vec{v}$ would change if you moved it an infinitesimal distance in the direction of vector $\\vec{u}$. Before we define the connection in more precise terms, we will first have to define  $\\textbf{tangent spaces}$ and $\\textbf{parallel vector fields}$."
   ]
  },
  {
   "cell_type": "markdown",
   "id": "c8cb8b35",
   "metadata": {},
   "source": [
    "(put picture here of a vector v moving in the direction of u, with v' in an arbitraty direction) (probably on a sphere is best.)"
   ]
  },
  {
   "cell_type": "markdown",
   "id": "202707f0",
   "metadata": {},
   "source": [
    "#ignore for now\n",
    "\n",
    "which utilizes the mathematical concept of a \"connection\" on a manifold. In general terms, the $\\textbf{Connection}$, denoted (insert connection symbol) tells us how one vector will change if you move it along another vector (to a different place on the manifold). In more mathematial terms the connection uses the notion of $\\textbf{parallelism}$ to \n",
    "\n",
    "tells us how one vector will change if you move it in the direction of another vector (to a different place on the manifold). Using more mathematical terms, the Connection uses the notion of $\\textbf{parallelism} to compare tangent spaces and how a vector would change if transported from one tangent space to another. Before you can understand exactly what this second definition means, we will first have to discuss what a tangent space is and what parallelism is."
   ]
  },
  {
   "cell_type": "markdown",
   "id": "55b84a09",
   "metadata": {},
   "source": [
    "## Tangent spaces"
   ]
  },
  {
   "cell_type": "markdown",
   "id": "f977c011",
   "metadata": {},
   "source": [
    "## Parallel Vector Fields"
   ]
  },
  {
   "cell_type": "markdown",
   "id": "7819b85d",
   "metadata": {},
   "source": [
    "# The Connection, in Detail"
   ]
  },
  {
   "cell_type": "markdown",
   "id": "29504e95",
   "metadata": {},
   "source": [
    "In this section, we will first provide a general mathematical definition of the Connection. Then, we will give a more intuative explanation of what the Connection does by going through an example. Lastly, we will discuss how to describe the connection in local coordinates using Christoffel Symbols."
   ]
  },
  {
   "cell_type": "markdown",
   "id": "e6ddcae9",
   "metadata": {},
   "source": [
    "## General Mathematical Definition of the Connection"
   ]
  },
  {
   "cell_type": "markdown",
   "id": "826633b1",
   "metadata": {},
   "source": [
    "Now that we have discussed tangent spaces and parallel vector fields, we are ready to look at the connection in more detail. We will start by defining the connection mathematically, and then we will define the connection again in a more conceptual and accessible way with examples. "
   ]
  },
  {
   "cell_type": "markdown",
   "id": "75363a29",
   "metadata": {},
   "source": [
    "Let $M$ be a smooth manifold. A $\\textbf{connection}$ on $M$ is an $\\mathbb{R}$-bilinear map $\\nabla: \\Gamma (T M) \\times \\Gamma (T M) \\to \\Gamma (T M)$ that verifies for all $X,Y \\in \\Gamma (T M), \\forall  f  \\in C^\\inf(M)$:\n",
    "\n",
    "1. (linearity of the $1^{st}$ argument): $\\nabla_{f X} Y = f \\nabla_{X} Y$\n",
    "\n",
    "2. (Leibniz rule in $2^{nd}$ argument): $\\nabla_{X} (fY) = X(f)Y+ f\\nabla_{X} Y$"
   ]
  },
  {
   "cell_type": "markdown",
   "id": "dc44538e",
   "metadata": {},
   "source": [
    "$\\textbf{What is this saying}:$\n",
    "\n",
    "First, let's dissect the map.\n",
    "\n",
    "\"$\\nabla:$\" - this part is saying that it is the connection which is performing the transformation.\n",
    "\n",
    "$T M$ - the tangent bundle of the manifold M. A tangent bundle is the collection of all tangent spaces on the manifold M. A tangent bundle is itself also a manifold.\n",
    "\n",
    "\"$\\Gamma(T M)$\" - $T M$ is a collection of all of the tangent spaces on the manifold $M$. Each tangent space is a collection of vectors, and there is one tangent space for each point on $M$. $\\Gamma$ is the symbol for a vector field. A vector field has one vector stemming from each point on a space.  Therefore, $\\Gamma(T M) is a vector field where each point takes one vector from the tangent space at that point. "
   ]
  },
  {
   "cell_type": "markdown",
   "id": "7b44e043",
   "metadata": {},
   "source": [
    "(add PICTURE here of many tangent spaces, and taking one vector from each of the tangent spaces.)"
   ]
  },
  {
   "cell_type": "markdown",
   "id": "ab971bb4",
   "metadata": {},
   "source": [
    "Putting all of this together, $\\nabla: \\Gamma (T M) \\times \\Gamma (T M) \\to \\Gamma (T M)$ is simply saying that the connection is a transformation which takes two arguments, both of which are vector fields of the tangent bundle of a manifold, and the result of the transformation is another vector field of the tangent bundle.\n",
    "\n",
    "The second part says that this map must satisfy conditions 1. and 2. for all possible vector fields $X,Y$ that could arrise from $\\Gamma (T M)$ and for all possible $f$'s that are elements of $C^\\inf(M)$."
   ]
  },
  {
   "cell_type": "markdown",
   "id": "7a87b2b1",
   "metadata": {},
   "source": [
    "QUESTION: why are conditions 1. and 2. important? how do they relate to what the conneciton actually does? This definition seems so disconnected from what the connection actually does."
   ]
  },
  {
   "cell_type": "markdown",
   "id": "14633047",
   "metadata": {},
   "source": [
    "## What does the Connection actually do? (a more friendly description of the connection)"
   ]
  },
  {
   "cell_type": "markdown",
   "id": "ca707f16",
   "metadata": {},
   "source": [
    "Consider two vectors in the same tangent space on a manifold (two vectors stemming from the same point on a manifold)\n",
    "\n",
    "(show picture of two vectors in the same tangent space)\n",
    "\n",
    "Now, suppose you want to see what vector a looks like when it moves to a different point on the manifold. This is not a trivial question. Each point on a manifold has its own set of basis vectors, which means that if a is transported to a different place on the manifold, it will not necessarily look the same.\n",
    "\n",
    "This is why the connection is necessary. The connection of a along b: (show connection symbol here) tells us how much a changes when you move a an infinitesmially small distance along u."
   ]
  },
  {
   "cell_type": "markdown",
   "id": "e6f38d37",
   "metadata": {},
   "source": [
    "## Description of Connection in Local Coordinates (using Christoffel Symbols)"
   ]
  },
  {
   "cell_type": "markdown",
   "id": "f51194f8",
   "metadata": {},
   "source": [
    "In local coordinates (PUT BETTER DESCRIPTION OF LOCAL COORDINATES HERE IN PARENTHESES), the connection can be described mathematically using $\\textbf{Christoffel Symbols}$:\n",
    "\n",
    "$$\\nabla_{\\partial_i} \\partial_j = \\Gamma_{i j}^{k} \\partial_k$$\n",
    "\n",
    "where $\\partial_i,\\partial_j$ are basis vectors at some point $p$ on the manifold, and $\\Gamma$ is called a $\\textbf{christoffel symbol}$."
   ]
  },
  {
   "cell_type": "markdown",
   "id": "2f064f0a",
   "metadata": {},
   "source": [
    "For those who have not seen a basis vector expressed as ${\\partial_i}$: ${\\partial_i}$ is equivalent to $\\vec{e}_i$. For example, in three dimensions, one could express the basis vectors $\\hat{x}, \\hat{y}, \\hat{z}$ as either $\\vec{e}_x, \\vec{e}_y, \\vec{e}_z$ or as $\\partial_x, \\partial_y, \\partial_z$. (POTENTIALLY PUT MORE INFO HERE ABOUT WHAT NINA AND I TALK ABOUT IN THE MEETING ABOUT DIFFERENTIAL STUFF)"
   ]
  },
  {
   "cell_type": "markdown",
   "id": "bef6babb",
   "metadata": {},
   "source": [
    "For those who have not seen Einstein notation before: "
   ]
  },
  {
   "cell_type": "markdown",
   "id": "3a027833",
   "metadata": {},
   "source": []
  },
  {
   "cell_type": "markdown",
   "id": "dd97c987",
   "metadata": {},
   "source": [
    "(with christoffel symbols, go through what nina and i did in our meeting)"
   ]
  },
  {
   "cell_type": "markdown",
   "id": "b8677c13",
   "metadata": {},
   "source": [
    "$\\textbf{An important note about basis vectors:}$"
   ]
  },
  {
   "cell_type": "markdown",
   "id": "e4209655",
   "metadata": {},
   "source": [
    "$\\textbf{Christoffel Symbols:}$"
   ]
  },
  {
   "cell_type": "markdown",
   "id": "c94f2a35",
   "metadata": {},
   "source": [
    "# The Connection Class in Geomstats"
   ]
  },
  {
   "cell_type": "markdown",
   "id": "93f6a7cc",
   "metadata": {},
   "source": [
    "what does the connection class do in geomstats?"
   ]
  },
  {
   "cell_type": "markdown",
   "id": "1871e147",
   "metadata": {},
   "source": [
    "what is the structure of the connection class?"
   ]
  },
  {
   "cell_type": "code",
   "execution_count": 1,
   "id": "e730c4ef",
   "metadata": {},
   "outputs": [
    {
     "name": "stderr",
     "output_type": "stream",
     "text": [
      "INFO: Using numpy backend\n"
     ]
    }
   ],
   "source": [
    "import os\n",
    "import sys\n",
    "import warnings\n",
    "\n",
    "sys.path.append(os.path.dirname(os.getcwd()))\n",
    "warnings.filterwarnings(\"ignore\")\n",
    "\n",
    "import geomstats.backend as gs\n",
    "\n",
    "gs.random.seed(2020)"
   ]
  },
  {
   "cell_type": "code",
   "execution_count": 4,
   "id": "2369a6b5",
   "metadata": {},
   "outputs": [
    {
     "name": "stdout",
     "output_type": "stream",
     "text": [
      "    def geodesic_equation(self, state, _time):\n",
      "        \"\"\"Compute the geodesic ODE associated with the connection.\n",
      "\n",
      "        Parameters\n",
      "        ----------\n",
      "        state : array-like, shape=[..., dim]\n",
      "            Tangent vector at the position.\n",
      "        _time : array-like, shape=[..., dim]\n",
      "            Point on the manifold, the position at which to compute the\n",
      "            geodesic ODE.\n",
      "\n",
      "        Returns\n",
      "        -------\n",
      "        geodesic_ode : array-like, shape=[..., dim]\n",
      "            Value of the vector field to be integrated at position.\n",
      "        \"\"\"\n",
      "        position, velocity = state\n",
      "        gamma = self.christoffels(position)\n",
      "        equation = gs.einsum(\"...kij,...i->...kj\", gamma, velocity)\n",
      "        equation = -gs.einsum(\"...kj,...j->...k\", equation, velocity)\n",
      "        return gs.stack([velocity, equation])\n"
     ]
    }
   ],
   "source": [
    "import inspect\n",
    "\n",
    "from geomstats.geometry.connection import Connection\n",
    "for line in inspect.getsourcelines(Connection.geodesic_equation)[0]:\n",
    "    line = line.replace('\\n','')\n",
    "    print(line)\n",
    "\n"
   ]
  },
  {
   "cell_type": "code",
   "execution_count": null,
   "id": "500c447b",
   "metadata": {},
   "outputs": [],
   "source": []
  }
 ],
 "metadata": {
  "kernelspec": {
   "display_name": "Python 3 (ipykernel)",
   "language": "python",
   "name": "python3"
  },
  "language_info": {
   "codemirror_mode": {
    "name": "ipython",
    "version": 3
   },
   "file_extension": ".py",
   "mimetype": "text/x-python",
   "name": "python",
   "nbconvert_exporter": "python",
   "pygments_lexer": "ipython3",
   "version": "3.8.12"
  }
 },
 "nbformat": 4,
 "nbformat_minor": 5
}
