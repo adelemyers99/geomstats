{
 "cells": [
  {
   "cell_type": "markdown",
   "id": "191cdd4c",
   "metadata": {},
   "source": [
    "Dear Learner,\n",
    "\n",
    "Welcome. This is a set of notebooks designed to teach you how to use (and hopefully understand) a software package called Geomstats. Geomstats is an open source code that uses Riemannian Geometry concepts to analyze data that lie on manifolds (this will be explained in further detail in the next section). Geomstats is the first software package of its kind. Before Geomstats, analysis of data on manifolds could only be done by people who could write their own software that could implement Riemannian geometry to analyze data on manifolds. The Geomstats package opens this field up and makes this type of data analysis more accessible to people who do not have prior knowledge of Riemannian Geometry. "
   ]
  },
  {
   "cell_type": "markdown",
   "id": "12299ebf",
   "metadata": {},
   "source": [
    "# Motivation for learning how to use Geomstats"
   ]
  },
  {
   "cell_type": "markdown",
   "id": "cf212ac3",
   "metadata": {},
   "source": [
    "Motivation for analyzing data on manifolds:\n",
    "\n",
    "what can data analysis on a manifold tell you that other types of data analysis cannot? what is the motivation to learn this type of data analysis?"
   ]
  },
  {
   "cell_type": "markdown",
   "id": "549d2558",
   "metadata": {},
   "source": [
    "Many data sets lie on a manifold, and if you analyze this data without considering its properties on this manifold, you are missing out on the power that this can give you????"
   ]
  },
  {
   "cell_type": "markdown",
   "id": "d1e2828f",
   "metadata": {},
   "source": [
    "# What you will learn"
   ]
  },
  {
   "cell_type": "markdown",
   "id": "cdb4c835",
   "metadata": {},
   "source": [
    "Geomstats is designed to be intuative and user friendly, but having some knowledge about Riemannian Geometry will put you in a good position to understand how to use geomstats most effectively. Therefore, in the next three notebooks, we will give you an overview of three of the most important parent classes in Geomstats, along with a description of the matematical concepts that are implemented in each."
   ]
  },
  {
   "cell_type": "markdown",
   "id": "66e5afd9",
   "metadata": {},
   "source": [
    "The three most important parent classes are:\n",
    "    1) Manifold\n",
    "    2) Connection\n",
    "    3) RiemannianMetric\n",
    "    \n",
    "One instructional notebook will be dedicated to each of these parent classes, starting with Manifold. In each of these notebooks, you should expect to gain an understanding of\n",
    "    1) the structure/hierarchy of the geomstats code and the class being discussed\n",
    "    2) how to perform calculations on manifolds\n",
    "    3) how and where this mathematics is implemented in the code"
   ]
  },
  {
   "cell_type": "markdown",
   "id": "a0d47c9f",
   "metadata": {},
   "source": [
    " # Beginning to build a hierarchal map"
   ]
  },
  {
   "cell_type": "markdown",
   "id": "4b3c9723",
   "metadata": {},
   "source": [
    "Now that we know about these three parent classes, we will begin to draw a hierarchal map of geomstats, which we will build out as we learn more about each parent class."
   ]
  },
  {
   "cell_type": "markdown",
   "id": "782f7172",
   "metadata": {},
   "source": [
    "(put picture map here)"
   ]
  },
  {
   "cell_type": "markdown",
   "id": "013e0689",
   "metadata": {},
   "source": []
  }
 ],
 "metadata": {
  "kernelspec": {
   "display_name": "Python 3 (ipykernel)",
   "language": "python",
   "name": "python3"
  },
  "language_info": {
   "codemirror_mode": {
    "name": "ipython",
    "version": 3
   },
   "file_extension": ".py",
   "mimetype": "text/x-python",
   "name": "python",
   "nbconvert_exporter": "python",
   "pygments_lexer": "ipython3",
   "version": "3.8.12"
  }
 },
 "nbformat": 4,
 "nbformat_minor": 5
}
