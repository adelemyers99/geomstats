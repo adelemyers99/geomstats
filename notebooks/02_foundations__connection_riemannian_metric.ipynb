{
 "cells": [
  {
   "cell_type": "markdown",
   "id": "57539ed2",
   "metadata": {},
   "source": [
    "In this section, we will:\n",
    "\n",
    "1. Define a Connection\n",
    "2. Discuss parallel vector fields and parallel transport\n",
    "3. Define Geodesics with the Connection\n",
    "4. Define the Connection in Local Coordinates (with Christoffel Symbols)\n",
    "5. Discuss Logarithms and Exponentials\n",
    "6. Give an overview of the Connection Class in Geomstats\n",
    "7. Discuss the RiemannianMetric subclass of the Connection Class"
   ]
  },
  {
   "cell_type": "markdown",
   "id": "53e8d770",
   "metadata": {},
   "source": [
    "This notebook provides an overview of the $\\textbf{Connection}$ class in Geomstats. Intuatively (and imprecisely), a connection is a mathematical operator that tells you how much a vector will change when you move it along a manifold in the direction of another vector. The symbol for connection is $\\nabla$, and $\\nabla_{\\vec{u}} \\vec{v}$ denotes the connection between $u$ and $v$, or how much  vector $\\vec{v}$ would change if you moved it an infinitesimal distance in the direction of vector $\\vec{u}$."
   ]
  },
  {
   "cell_type": "markdown",
   "id": "c8cb8b35",
   "metadata": {},
   "source": [
    "(put picture here of a vector v moving in the direction of u, with v' in an arbitraty direction) (probably on a sphere is best.)"
   ]
  },
  {
   "cell_type": "markdown",
   "id": "7819b85d",
   "metadata": {},
   "source": [
    "# 1. What is a Connection?"
   ]
  },
  {
   "cell_type": "markdown",
   "id": "cdf81e67",
   "metadata": {},
   "source": [
    "We will start by defining the connection mathematically, and then we will define the connection again in a more conceptual and accessible way with examples. "
   ]
  },
  {
   "cell_type": "markdown",
   "id": "e6ddcae9",
   "metadata": {},
   "source": [
    "## 1.1 General Mathematical Definition of the Connection"
   ]
  },
  {
   "cell_type": "markdown",
   "id": "75363a29",
   "metadata": {},
   "source": [
    "Let $M$ be a smooth manifold. A $\\textbf{connection}$ on $M$ is an $\\mathbb{R}$-bilinear map $\\nabla: \\Gamma (T M) \\times \\Gamma (T M) \\to \\Gamma (T M)$ that verifies for all $X,Y \\in \\Gamma (T M), \\forall  f  \\in C^\\infty(M)$:\n",
    "\n",
    "1. (linearity of the $1^{st}$ argument): $\\nabla_{f X} Y = f \\nabla_{X} Y$\n",
    "\n",
    "2. (Leibniz rule in $2^{nd}$ argument): $\\nabla_{X} (fY) = X(f)Y+ f\\nabla_{X} Y$"
   ]
  },
  {
   "cell_type": "markdown",
   "id": "dc44538e",
   "metadata": {},
   "source": [
    "$\\textbf{What is this saying}:$\n",
    "\n",
    "First, let's dissect the map.\n",
    "\n",
    "\"$\\nabla:$\" - this part is saying that it is the connection which is performing the transformation.\n",
    "\n",
    "\"$T M$\" - the tangent bundle of the manifold M. A tangent bundle is the collection of all tangent spaces on the manifold M. A tangent bundle is itself also a manifold.\n",
    "\n",
    "\"$\\Gamma(T M)$\" - $T M$ is a collection of all of the tangent spaces on the manifold $M$. Each tangent space is a collection of vectors, and there is one tangent space for each point on $M$. $\\Gamma$ is the symbol for a vector field. A vector field has one vector stemming from each point on a space.  Therefore, $\\Gamma(T M) is a vector field where each point takes one vector from the tangent space at that point. "
   ]
  },
  {
   "cell_type": "markdown",
   "id": "39f0420a",
   "metadata": {},
   "source": [
    "(add PICTURE here of many tangent spaces, and taking one vector from each of the tangent spaces.)"
   ]
  },
  {
   "cell_type": "markdown",
   "id": "536039d4",
   "metadata": {},
   "source": [
    "Putting all of this together, $\\nabla: \\Gamma (T M) \\times \\Gamma (T M) \\to \\Gamma (T M)$ is simply saying that the connection is a transformation which takes two arguments, both of which are vector fields of the tangent bundle of a manifold, and the result of the transformation is another vector field of the tangent bundle.\n",
    "\n",
    "The second part says that this map must satisfy conditions 1. and 2. for all possible vector fields $X,Y$ that could arrise from $\\Gamma (T M)$ and for all possible $f$'s that are elements of $C^\\inf(M)$."
   ]
  },
  {
   "cell_type": "markdown",
   "id": "7432cd4a",
   "metadata": {},
   "source": [
    "QUESTION: why are conditions 1. and 2. important? how do they relate to what the conneciton actually does? This definition seems so disconnected from what the connection actually does."
   ]
  },
  {
   "cell_type": "markdown",
   "id": "14633047",
   "metadata": {},
   "source": [
    "## 1.2 What does the Connection actually do? -- a more friendly description of the connection, with an example"
   ]
  },
  {
   "cell_type": "markdown",
   "id": "97888b3d",
   "metadata": {},
   "source": [
    "Consider a single vector $\\vec{a}$ on a manifold. \n",
    "\n",
    "(show picture of a vector a on a manifold vectors in the same tangent space)\n",
    "\n",
    "Now, suppose you want to see what vector $\\vec{a}$ looks like when it moves to a different point on the manifold. You may be asking why we are placing importance on this question-- for a vector in cartesian coordinates, this question would be trivial. If you moved vector a to a different point in cartesian coordinates, the vector itself would not change."
   ]
  },
  {
   "cell_type": "markdown",
   "id": "8635a5dd",
   "metadata": {},
   "source": [
    "(picture: show a vector moving from one point to another in cartesian coordinates, with nothing changing. show the set of basis vectors at each point)"
   ]
  },
  {
   "cell_type": "markdown",
   "id": "86d31417",
   "metadata": {},
   "source": [
    "A spatially translated vector in cartesian coordiantes does not change because the basis vectors in cartesian coordinates are translationally invariant, meaning all points in cartesian coordinates have the same set of basis vectors."
   ]
  },
  {
   "cell_type": "markdown",
   "id": "5d097e78",
   "metadata": {},
   "source": [
    "This is not, however, necessarily true for ponits on a manifold--  Different points on a manifold do not necessarily share basis vectors, so if you move a vector from one point to another, the vector will not necessarily look the same after this transformation."
   ]
  },
  {
   "cell_type": "markdown",
   "id": "b15d45d0",
   "metadata": {},
   "source": [
    "(show picture of a vector moving from one point to another on a manifold. show different basis vectors at each point.)"
   ]
  },
  {
   "cell_type": "markdown",
   "id": "172b984b",
   "metadata": {},
   "source": [
    "This is why the connection is such an important concept as we analyze data on manifolds. The connection helps us quantify how much a vector will change when we move it from one point to another on a manifold."
   ]
  },
  {
   "cell_type": "markdown",
   "id": "4336b8e9",
   "metadata": {},
   "source": [
    "More specifically, the connection is able to tell us how one vector will change if it is moved in the direction of another vector. For example, if vectors $\\vec{a}$ and $\\vec{b}$ exist in the same tangent plane, then the connection $\\nabla_{\\vec{b}} \\vec{a}$ tells us how much the vector $\\vec{a}$ will change if it is moved an infinitesimally small distance in the direction of $\\vec{b}$."
   ]
  },
  {
   "cell_type": "markdown",
   "id": "2d48c2ff",
   "metadata": {},
   "source": [
    "(show picture of a and b in a manifold together, a moving an infinitesimally small distance along b)"
   ]
  },
  {
   "cell_type": "markdown",
   "id": "42157196",
   "metadata": {},
   "source": [
    "# 2 Why is the Connection important (big picture)? -- parallel transport, parallel vector fields"
   ]
  },
  {
   "cell_type": "markdown",
   "id": "4bcbaa30",
   "metadata": {},
   "source": [
    "Of course, the connection is importnat becasue it tells you how much a vector will change when you move it along a manifold. However, it is also important for another, more mathematically profound, reason than this. The connection is especially important because it defines how to evaluate whether two vectors on a manifold are parallel (NOTE TO SELF: I am not sure if this wording is exactly correct). To understand what this means, we will have to introduce two new concepts: $\\textbf{parallel vector fields}$, which will allow us to introduce the notion of $\\textbf{parallel transport}$."
   ]
  },
  {
   "cell_type": "markdown",
   "id": "e0777006",
   "metadata": {},
   "source": [
    "## 2.1 Parallel Vector Fields"
   ]
  },
  {
   "cell_type": "markdown",
   "id": "8c7f4933",
   "metadata": {},
   "source": [
    "$\\textbf{Precise Definition of a Parallel vector field}:$\n",
    "\n",
    "Let $M$ be a smooth manifold and $\\nabla$ a connection on $M$. For any curve $\\gamma : [a,b] \\to M$ in $M$, a vector fied $X$ is $\\textbf{parallel}$ (Question: parallel to what? the curve?) if \n",
    "\n",
    "$$\\nabla_{\\dot{\\gamma}(t)} X(t)=0$$"
   ]
  },
  {
   "cell_type": "markdown",
   "id": "60f78c52",
   "metadata": {},
   "source": [
    "$\\textbf{What does this mean?:}$ \n",
    "\n",
    "This definition simply means that a parallel vector field is a vector field (set of vectors) that dos not change (with respect to the tangent vectors $\\dot{\\gamma(t)}$ if you move the vector along a line tangent to the curve $\\gamma$. In other words, a vector field $X(t)$ is said to be parallel to $\\gamma(t)$ if its orientation with respect to $\\dot{\\gamma(t)}$ (the tangent vector at some point $t$ does not change as a vector $x \\in X(t)$ moves along the curve $\\gamma(t)$."
   ]
  },
  {
   "cell_type": "markdown",
   "id": "ba9393db",
   "metadata": {},
   "source": [
    "For example, consider the curve $\\gamma$ with tangent vectors $\\dot{\\gamma}$. Now consider a vector $x \\in X(t)$. Because $X(t)$ is parallel to $\\gamma(t)$, $x$'s orientation to the tangent vectors of $\\gamma$ will not change as you move $x$ along the curve $\\gamma$"
   ]
  },
  {
   "cell_type": "markdown",
   "id": "a57b9681",
   "metadata": {},
   "source": [
    "(show three pictures of x moving along gamma and not changing orientation with respect to tangent vectors.)"
   ]
  },
  {
   "cell_type": "markdown",
   "id": "9ee7d5f5",
   "metadata": {},
   "source": [
    "## 2.2 Parallel Transport"
   ]
  },
  {
   "cell_type": "markdown",
   "id": "730f9041",
   "metadata": {},
   "source": [
    "The parallel transport, denoted $X(s)= \\prod_{\\gamma,t}^s$ tells us what a vector $x \\in X(t)$ will look like at $\\gamma(s)$ (the point s on the curve \\gamma) if $x$ starts at point $\\gamma(t)$ and is then transported along the curve to another point $\\gamma(s)$."
   ]
  },
  {
   "cell_type": "markdown",
   "id": "a55fbad3",
   "metadata": {},
   "source": [
    "For example, consider a vector u that starts at point $\\gamma(a)$. Then $\\prod_{\\gamma,a}^b \\vec{u} = \\vec{u'}$ tells us what $\\vec{u}$ would look like at point $\\gamma(b)$. In other words, the parallel transport tells us what a vector would look like if it was transported from one tangent space ($T_{\\gamma(a)}M$) to another tangent space ($T_{\\gamma(b)}M$)"
   ]
  },
  {
   "cell_type": "markdown",
   "id": "d6119314",
   "metadata": {},
   "source": [
    "(picture: first picture is of u at gamma(a). next picture shows a dotted line where u used to be, and a dotted line along gamma from a to b. at point b, show vector u', which has the same orintation to gamma dot (b) as u had to gamma dot a. maybe include angle that shows taht the angels are the same.)"
   ]
  },
  {
   "cell_type": "markdown",
   "id": "5f119062",
   "metadata": {},
   "source": [
    "Thus, in the same way that the connection tells us how to transport a vector an infinitesimally small distance along a manifold, the parallel transport tells us how we can transport a vector over larger distances along a manifold."
   ]
  },
  {
   "cell_type": "markdown",
   "id": "04c152fc",
   "metadata": {},
   "source": [
    "# 3 Defining Geodesics with the Conneciton"
   ]
  },
  {
   "cell_type": "markdown",
   "id": "c3dfc416",
   "metadata": {},
   "source": []
  },
  {
   "cell_type": "markdown",
   "id": "e6f38d37",
   "metadata": {},
   "source": [
    "# 4 Description of Connection in Local Coordinates (using Christoffel Symbols)"
   ]
  },
  {
   "cell_type": "markdown",
   "id": "f51194f8",
   "metadata": {},
   "source": [
    "In local coordinates (PUT BETTER DESCRIPTION OF LOCAL COORDINATES HERE IN PARENTHESES), the connection can be described mathematically using $\\textbf{Christoffel Symbols}$:\n",
    "\n",
    "$$\\nabla_{\\partial_i} \\partial_j = \\Gamma_{i j}^{k} \\partial_k$$\n",
    "\n",
    "where $\\partial_i,\\partial_j$ are basis vectors at some point $p$ on the manifold, and $\\Gamma$ is called a $\\textbf{christoffel symbol}$."
   ]
  },
  {
   "cell_type": "markdown",
   "id": "2f064f0a",
   "metadata": {},
   "source": [
    "$\\textbf{For those who have not seen a basis vector expressed as } \\mathbf{ \\partial_i}$: (i think i should change these bolded parts to subsections)\n",
    "\n",
    "${\\partial_i}$ is equivalent to $\\vec{e}_i$. For example, in three dimensions, one could express the basis vectors $\\hat{x}, \\hat{y}, \\hat{z}$ as either $\\vec{e}_x, \\vec{e}_y, \\vec{e}_z$ or as $\\partial_x, \\partial_y, \\partial_z$. (POTENTIALLY PUT MORE INFO HERE ABOUT WHAT NINA AND I TALK ABOUT IN THE MEETING ABOUT DIFFERENTIAL STUFF)"
   ]
  },
  {
   "cell_type": "markdown",
   "id": "bef6babb",
   "metadata": {},
   "source": [
    "$\\textbf{For those who have not seen Einstein notation before:}$\n",
    "\n",
    "$i$ and $j$ can denote any one of the basis vectors of a space. For example, in 3D space, $i$ can be $x, y,$ or $z$, and $j$ can be $x, y,$ or $z$. $k$ is different because it is used in a superscript and a subscript. In einstein notation, when a letter is used in a superscript and a subscript, this is equivalent to a sum over all basis vectors. \n",
    "\n",
    "For example, if we chose $i=x$ and $j=z$, then the connection statement (where the sum over $k$ is stated explicitly) would read as:\n",
    "\n",
    "$$\\nabla_{\\partial_x} \\partial_z = \\Gamma_{i j}^{k} \\partial_k$$\n",
    "\n",
    "$$=\\Sigma_{k=x,y,z} \\Gamma_{i j}^{k} \\partial_k$$\n",
    "\n",
    "$$=\\Gamma_{x z}^{x} \\partial_x + \\Gamma_{x z}^{y} \\partial_y + \\Gamma_{x z}^{z} \\partial_z$$"
   ]
  },
  {
   "cell_type": "markdown",
   "id": "3a027833",
   "metadata": {},
   "source": [
    "$\\textbf{What does a Christoffel Symbol represent?}$\n",
    "\n",
    "The best way to gain intuition of what a christoffel symbol represents is through an example.\n",
    "\n",
    "As discussed in section 1.2, the connection $\\nabla_{\\partial_x} \\partial_z$ would tell us how the basis vector $\\partial_z$ would change if we moved it along the manifold in the direction of $\\partial_x$. Now, we know that we can represent $\\nabla_{\\partial_x} \\partial_z$ with christoffel symbols as:\n",
    "\n",
    "$$\\nabla_{\\partial_x} \\partial_z = \\Gamma_{x z}^{x} \\partial_x + \\Gamma_{x z}^{y} \\partial_y + \\Gamma_{x z}^{z} \\partial_z$$\n",
    "\n",
    "so the right hand side of the equation should tell us something about the overall rate of change of $\\partial_z$ when we move $\\partial_z$ in the direction of $\\partial_x$. Therefore, it seems natural that each of the christoffel symbols would represent a rate of change. For example, $\\Gamma_{x z}^{y}$ tells us the rate of change (in the $\\partial_y$ direction) of $\\partial_z$ when we move $\\partial_z$ in the direction of $\\partial_x$."
   ]
  },
  {
   "cell_type": "markdown",
   "id": "48cb7c5f",
   "metadata": {},
   "source": [
    "(try to draw this in a picture? visualizing the christoffel symbol)"
   ]
  },
  {
   "cell_type": "markdown",
   "id": "41d0800f",
   "metadata": {},
   "source": [
    "$\\textbf{Why should we care about Christoffel Symbols and this representation of the connection?}$\n",
    "\n",
    "The ability to represent the connection in this way is $\\textit{essential}$ because christoffel symbols are something we can actually compute. Up until now, we have presented somewhat abstract formulae with no actual method for computation. Now, with christoffel symbols, we can compute actual values for the connection. This is not something we have the tools to do at this point in our tutorial. We will go over how to calculate christoffel symbols in the RiemannainMetric tutorial."
   ]
  },
  {
   "cell_type": "markdown",
   "id": "1e480240",
   "metadata": {},
   "source": [
    "# Additional Important Mathematical concepts utilized by `Connection` Class: Logarithm, Exponential"
   ]
  },
  {
   "cell_type": "markdown",
   "id": "dd5e1889",
   "metadata": {},
   "source": [
    "(intro to the concept of log and exp):\n",
    "what do they allow us to do\n",
    "motivation for thier existance\n",
    "log is like (have two points, get a vector) -subtraction\n",
    "exp is like (have a point and a vector, get another point) - addition"
   ]
  },
  {
   "cell_type": "markdown",
   "id": "10e63b9e",
   "metadata": {},
   "source": [
    "## Exponentials on Manifolds"
   ]
  },
  {
   "cell_type": "markdown",
   "id": "b3bad62e",
   "metadata": {},
   "source": []
  },
  {
   "cell_type": "markdown",
   "id": "cdad9a32",
   "metadata": {},
   "source": [
    "## Logarithms on Manifolds"
   ]
  },
  {
   "cell_type": "markdown",
   "id": "24eb26f5",
   "metadata": {},
   "source": []
  },
  {
   "cell_type": "markdown",
   "id": "c94f2a35",
   "metadata": {},
   "source": [
    "# The `Connection` Class in Geomstats"
   ]
  },
  {
   "cell_type": "markdown",
   "id": "93f6a7cc",
   "metadata": {},
   "source": [
    "what does the connection class do in geomstats?:\n",
    "\n"
   ]
  },
  {
   "cell_type": "markdown",
   "id": "1871e147",
   "metadata": {},
   "source": [
    "what is the structure of the connection class?\n",
    "-has four methods which do various things\n",
    "-has one subclass, RiemannianMetric"
   ]
  },
  {
   "cell_type": "markdown",
   "id": "a6229c7b",
   "metadata": {},
   "source": [
    "We will first print the key methods of the `Connection` class, and then at the end we will print the entire conection class for anyone who is interested."
   ]
  },
  {
   "cell_type": "code",
   "execution_count": 3,
   "id": "e730c4ef",
   "metadata": {},
   "outputs": [
    {
     "name": "stderr",
     "output_type": "stream",
     "text": [
      "INFO: Using numpy backend\n"
     ]
    }
   ],
   "source": [
    "import os\n",
    "import sys\n",
    "import warnings\n",
    "\n",
    "sys.path.append(os.path.dirname(os.getcwd()))\n",
    "warnings.filterwarnings(\"ignore\")\n",
    "\n",
    "import geomstats.backend as gs\n",
    "\n",
    "gs.random.seed(2020)"
   ]
  },
  {
   "cell_type": "markdown",
   "id": "c762acd4",
   "metadata": {},
   "source": [
    "## method: `parallel_transport()`"
   ]
  },
  {
   "cell_type": "markdown",
   "id": "40c103d4",
   "metadata": {},
   "source": [
    "This is the method in the `Connection` class which calculates the parallel transport of a given tangent vector. Run the following code to see the `parallel_transport` method in Geomstats:"
   ]
  },
  {
   "cell_type": "code",
   "execution_count": 6,
   "id": "500c447b",
   "metadata": {},
   "outputs": [
    {
     "name": "stdout",
     "output_type": "stream",
     "text": [
      "    def parallel_transport(\n",
      "        self, tangent_vec, base_point, direction=None, end_point=None\n",
      "    ):\n",
      "        r\"\"\"Compute the parallel transport of a tangent vector.\n",
      "\n",
      "        Closed-form solution for the parallel transport of a tangent vector\n",
      "        along the geodesic between two points `base_point` and `end_point`\n",
      "        or alternatively defined by :math:`t\\mapsto exp_(base_point)(\n",
      "        t*direction)`.\n",
      "\n",
      "        Parameters\n",
      "        ----------\n",
      "        tangent_vec : array-like, shape=[..., {dim, [n, m]}]\n",
      "            Tangent vector at base point to be transported.\n",
      "        base_point : array-like, shape=[..., {dim, [n, m]}]\n",
      "            Point on the manifold. Point to transport from.\n",
      "        direction : array-like, shape=[..., {dim, [n, m]}]\n",
      "            Tangent vector at base point, along which the parallel transport\n",
      "            is computed.\n",
      "            Optional, default: None.\n",
      "        end_point : array-like, shape=[..., {dim, [n, m]}]\n",
      "            Point on the manifold. Point to transport to.\n",
      "            Optional, default: None.\n",
      "\n",
      "        Returns\n",
      "        -------\n",
      "        transported_tangent_vec: array-like, shape=[..., {dim, [n, m]}]\n",
      "            Transported tangent vector at `exp_(base_point)(tangent_vec_b)`.\n",
      "        \"\"\"\n",
      "        raise NotImplementedError(\n",
      "            \"The closed-form solution of parallel transport is not known, \"\n",
      "            \"use the ladder_parallel_transport instead.\"\n",
      "        )\n"
     ]
    }
   ],
   "source": [
    "import inspect\n",
    "\n",
    "from geomstats.geometry.connection import Connection\n",
    "for line in inspect.getsourcelines(Connection.parallel_transport)[0]:\n",
    "    line = line.replace('\\n','')\n",
    "    print(line)\n"
   ]
  },
  {
   "cell_type": "markdown",
   "id": "56736bf7",
   "metadata": {},
   "source": [
    "## method: `geodesic_equation()`"
   ]
  },
  {
   "cell_type": "markdown",
   "id": "f7677aad",
   "metadata": {},
   "source": [
    "This is the method in the `Connection` class which calculates the geodesic that a tangent vector will follow on the manifold. Run the following code to see the `geodesic_equation` method in Geomstats:"
   ]
  },
  {
   "cell_type": "code",
   "execution_count": 4,
   "id": "2369a6b5",
   "metadata": {},
   "outputs": [
    {
     "name": "stdout",
     "output_type": "stream",
     "text": [
      "    def geodesic_equation(self, state, _time):\n",
      "        \"\"\"Compute the geodesic ODE associated with the connection.\n",
      "\n",
      "        Parameters\n",
      "        ----------\n",
      "        state : array-like, shape=[..., dim]\n",
      "            Tangent vector at the position.\n",
      "        _time : array-like, shape=[..., dim]\n",
      "            Point on the manifold, the position at which to compute the\n",
      "            geodesic ODE.\n",
      "\n",
      "        Returns\n",
      "        -------\n",
      "        geodesic_ode : array-like, shape=[..., dim]\n",
      "            Value of the vector field to be integrated at position.\n",
      "        \"\"\"\n",
      "        position, velocity = state\n",
      "        gamma = self.christoffels(position)\n",
      "        equation = gs.einsum(\"...kij,...i->...kj\", gamma, velocity)\n",
      "        equation = -gs.einsum(\"...kj,...j->...k\", equation, velocity)\n",
      "        return gs.stack([velocity, equation])\n"
     ]
    }
   ],
   "source": [
    "import inspect\n",
    "\n",
    "from geomstats.geometry.connection import Connection\n",
    "for line in inspect.getsourcelines(Connection.geodesic_equation)[0]:\n",
    "    line = line.replace('\\n','')\n",
    "    print(line)"
   ]
  },
  {
   "cell_type": "markdown",
   "id": "5e671689",
   "metadata": {},
   "source": [
    "## method:  `exp()` (exponential)"
   ]
  },
  {
   "cell_type": "markdown",
   "id": "1d6f264b",
   "metadata": {},
   "source": [
    "This is the method in the `Connection` class which computes the exponential of a point and a vector on a manifold. Run the following code to see the `exp` method in Geomstats:"
   ]
  },
  {
   "cell_type": "code",
   "execution_count": null,
   "id": "f1948777",
   "metadata": {},
   "outputs": [],
   "source": [
    "import inspect\n",
    "\n",
    "from geomstats.geometry.connection import Connection\n",
    "for line in inspect.getsourcelines(Connection.log)[0]:\n",
    "    line = line.replace('\\n','')\n",
    "    print(line)"
   ]
  },
  {
   "cell_type": "markdown",
   "id": "cbd89564",
   "metadata": {},
   "source": [
    "## method:  `log()` (logarithm)"
   ]
  },
  {
   "cell_type": "markdown",
   "id": "61ff442a",
   "metadata": {},
   "source": [
    "This is the method in the `Connection` class which computes the logarithm of two points on a manifold. Run the following code to see the `log` method in Geomstats:"
   ]
  },
  {
   "cell_type": "code",
   "execution_count": 7,
   "id": "cbe07840",
   "metadata": {},
   "outputs": [
    {
     "name": "stdout",
     "output_type": "stream",
     "text": [
      "    def log(\n",
      "        self,\n",
      "        point,\n",
      "        base_point,\n",
      "        n_steps=N_STEPS,\n",
      "        step=\"euler\",\n",
      "        max_iter=25,\n",
      "        verbose=False,\n",
      "        tol=gs.atol,\n",
      "    ):\n",
      "        \"\"\"Compute logarithm map associated to the affine connection.\n",
      "\n",
      "        Solve the boundary value problem associated to the geodesic equation\n",
      "        using the Christoffel symbols and conjugate gradient descent.\n",
      "\n",
      "        Parameters\n",
      "        ----------\n",
      "        point : array-like, shape=[..., dim]\n",
      "            Point on the manifold.\n",
      "        base_point : array-like, shape=[..., dim]\n",
      "            Point on the manifold.\n",
      "        n_steps : int\n",
      "            Number of discrete time steps to take in the integration.\n",
      "            Optional, default: N_STEPS.\n",
      "        step : str, {'euler', 'rk4'}\n",
      "            Numerical scheme to use for integration.\n",
      "            Optional, default: 'euler'.\n",
      "        max_iter\n",
      "        verbose\n",
      "        tol\n",
      "\n",
      "        Returns\n",
      "        -------\n",
      "        tangent_vec : array-like, shape=[..., dim]\n",
      "            Tangent vector at the base point.\n",
      "        \"\"\"\n",
      "        max_shape = point.shape\n",
      "        if len(point.shape) <= len(base_point.shape):\n",
      "            max_shape = base_point.shape\n",
      "\n",
      "        def objective(velocity):\n",
      "            \"\"\"Define the objective function.\"\"\"\n",
      "            velocity = gs.array(velocity)\n",
      "            velocity = gs.cast(velocity, dtype=base_point.dtype)\n",
      "            velocity = gs.reshape(velocity, max_shape)\n",
      "            delta = self.exp(velocity, base_point, n_steps, step) - point\n",
      "            return gs.sum(delta**2)\n",
      "\n",
      "        objective_with_grad = gs.autodiff.value_and_grad(objective, to_numpy=True)\n",
      "\n",
      "        tangent_vec = gs.flatten(gs.random.rand(*max_shape))\n",
      "\n",
      "        res = minimize(\n",
      "            objective_with_grad,\n",
      "            tangent_vec,\n",
      "            method=\"L-BFGS-B\",\n",
      "            jac=True,\n",
      "            options={\"disp\": verbose, \"maxiter\": max_iter},\n",
      "            tol=tol,\n",
      "        )\n",
      "\n",
      "        tangent_vec = gs.array(res.x)\n",
      "        tangent_vec = gs.reshape(tangent_vec, max_shape)\n",
      "        tangent_vec = gs.cast(tangent_vec, dtype=base_point.dtype)\n",
      "        return tangent_vec\n"
     ]
    }
   ],
   "source": [
    "import inspect\n",
    "\n",
    "from geomstats.geometry.connection import Connection\n",
    "for line in inspect.getsourcelines(Connection.log)[0]:\n",
    "    line = line.replace('\\n','')\n",
    "    print(line)"
   ]
  },
  {
   "cell_type": "code",
   "execution_count": 4,
   "id": "fde96c70",
   "metadata": {},
   "outputs": [
    {
     "name": "stdout",
     "output_type": "stream",
     "text": [
      "class Connection(ABC):\n",
      "    r\"\"\"Class for affine connections.\n",
      "\n",
      "    Parameters\n",
      "    ----------\n",
      "    dim : int\n",
      "        Dimension of the underlying manifold.\n",
      "    shape : tuple of int\n",
      "        Shape of one element of the manifold.\n",
      "        Optional, default : (dim, ).\n",
      "    default_point_type : str, {\\'vector\\', \\'matrix\\'}\n",
      "        Point type.\n",
      "        Optional, default: \\'vector\\'.\n",
      "    default_coords_type : str, {\\'intrinsic\\', \\'extrinsic\\', etc}\n",
      "        Coordinate type.\n",
      "        Optional, default: \\'intrinsic\\'.\n",
      "    \"\"\"\n",
      "\n",
      "    def __init__(\n",
      "        self, dim, shape=None, default_point_type=None, default_coords_type=\"intrinsic\"\n",
      "    ):\n",
      "        if shape is None:\n",
      "            shape = (dim,)\n",
      "        if default_point_type is None:\n",
      "            default_point_type = POINT_TYPES[len(shape)]\n",
      "\n",
      "        geomstats.errors.check_integer(dim, \"dim\")\n",
      "        geomstats.errors.check_parameter_accepted_values(\n",
      "            default_point_type, \"default_point_type\", [\"vector\", \"matrix\"]\n",
      "        )\n",
      "\n",
      "        self.dim = dim\n",
      "        self.shape = shape\n",
      "        self.default_point_type = default_point_type\n",
      "        self.default_coords_type = default_coords_type\n",
      "\n",
      "    def christoffels(self, base_point):\n",
      "        \"\"\"Christoffel symbols associated with the connection.\n",
      "\n",
      "        Parameters\n",
      "        ----------\n",
      "        base_point : array-like, shape=[..., dim]\n",
      "            Point on the manifold.\n",
      "\n",
      "        Returns\n",
      "        -------\n",
      "        gamma : array-like, shape=[..., dim, dim, dim]\n",
      "            Christoffel symbols, with the contravariant index on\n",
      "            the first dimension.\n",
      "        \"\"\"\n",
      "        raise NotImplementedError(\"The Christoffel symbols are not implemented.\")\n",
      "\n",
      "    def geodesic_equation(self, state, _time):\n",
      "        \"\"\"Compute the geodesic ODE associated with the connection.\n",
      "\n",
      "        Parameters\n",
      "        ----------\n",
      "        state : array-like, shape=[..., dim]\n",
      "            Tangent vector at the position.\n",
      "        _time : array-like, shape=[..., dim]\n",
      "            Point on the manifold, the position at which to compute the\n",
      "            geodesic ODE.\n",
      "\n",
      "        Returns\n",
      "        -------\n",
      "        geodesic_ode : array-like, shape=[..., dim]\n",
      "            Value of the vector field to be integrated at position.\n",
      "        \"\"\"\n",
      "        position, velocity = state\n",
      "        gamma = self.christoffels(position)\n",
      "        equation = gs.einsum(\"...kij,...i->...kj\", gamma, velocity)\n",
      "        equation = -gs.einsum(\"...kj,...j->...k\", equation, velocity)\n",
      "        return gs.stack([velocity, equation])\n",
      "\n",
      "    def exp(\n",
      "        self,\n",
      "        tangent_vec,\n",
      "        base_point,\n",
      "        n_steps=N_STEPS,\n",
      "        step=\"euler\",\n",
      "        point_type=None,\n",
      "        **kwargs\n",
      "    ):\n",
      "        \"\"\"Exponential map associated to the affine connection.\n",
      "\n",
      "        Exponential map at base_point of tangent_vec computed by integration\n",
      "        of the geodesic equation (initial value problem), using the\n",
      "        christoffel symbols.\n",
      "\n",
      "        Parameters\n",
      "        ----------\n",
      "        tangent_vec : array-like, shape=[..., dim]\n",
      "            Tangent vector at the base point.\n",
      "        base_point : array-like, shape=[..., dim]\n",
      "            Point on the manifold.\n",
      "        n_steps : int\n",
      "            Number of discrete time steps to take in the integration.\n",
      "            Optional, default: N_STEPS.\n",
      "        step : str, {'euler', 'rk4'}\n",
      "            The numerical scheme to use for integration.\n",
      "            Optional, default: 'euler'.\n",
      "        point_type : str, {'vector', 'matrix'}\n",
      "            Type of representation used for points.\n",
      "            Optional, default: None.\n",
      "\n",
      "        Returns\n",
      "        -------\n",
      "        exp : array-like, shape=[..., dim]\n",
      "            Point on the manifold.\n",
      "        \"\"\"\n",
      "        initial_state = gs.stack([base_point, tangent_vec])\n",
      "        flow = integrate(\n",
      "            self.geodesic_equation, initial_state, n_steps=n_steps, step=step\n",
      "        )\n",
      "\n",
      "        exp = flow[-1][0]\n",
      "        return exp\n",
      "\n",
      "    def log(\n",
      "        self,\n",
      "        point,\n",
      "        base_point,\n",
      "        n_steps=N_STEPS,\n",
      "        step=\"euler\",\n",
      "        max_iter=25,\n",
      "        verbose=False,\n",
      "        tol=gs.atol,\n",
      "    ):\n",
      "        \"\"\"Compute logarithm map associated to the affine connection.\n",
      "\n",
      "        Solve the boundary value problem associated to the geodesic equation\n",
      "        using the Christoffel symbols and conjugate gradient descent.\n",
      "\n",
      "        Parameters\n",
      "        ----------\n",
      "        point : array-like, shape=[..., dim]\n",
      "            Point on the manifold.\n",
      "        base_point : array-like, shape=[..., dim]\n",
      "            Point on the manifold.\n",
      "        n_steps : int\n",
      "            Number of discrete time steps to take in the integration.\n",
      "            Optional, default: N_STEPS.\n",
      "        step : str, {'euler', 'rk4'}\n",
      "            Numerical scheme to use for integration.\n",
      "            Optional, default: 'euler'.\n",
      "        max_iter\n",
      "        verbose\n",
      "        tol\n",
      "\n",
      "        Returns\n",
      "        -------\n",
      "        tangent_vec : array-like, shape=[..., dim]\n",
      "            Tangent vector at the base point.\n",
      "        \"\"\"\n",
      "        max_shape = point.shape\n",
      "        if len(point.shape) <= len(base_point.shape):\n",
      "            max_shape = base_point.shape\n",
      "\n",
      "        def objective(velocity):\n",
      "            \"\"\"Define the objective function.\"\"\"\n",
      "            velocity = gs.array(velocity)\n",
      "            velocity = gs.cast(velocity, dtype=base_point.dtype)\n",
      "            velocity = gs.reshape(velocity, max_shape)\n",
      "            delta = self.exp(velocity, base_point, n_steps, step) - point\n",
      "            return gs.sum(delta**2)\n",
      "\n",
      "        objective_with_grad = gs.autodiff.value_and_grad(objective, to_numpy=True)\n",
      "\n",
      "        tangent_vec = gs.flatten(gs.random.rand(*max_shape))\n",
      "\n",
      "        res = minimize(\n",
      "            objective_with_grad,\n",
      "            tangent_vec,\n",
      "            method=\"L-BFGS-B\",\n",
      "            jac=True,\n",
      "            options={\"disp\": verbose, \"maxiter\": max_iter},\n",
      "            tol=tol,\n",
      "        )\n",
      "\n",
      "        tangent_vec = gs.array(res.x)\n",
      "        tangent_vec = gs.reshape(tangent_vec, max_shape)\n",
      "        tangent_vec = gs.cast(tangent_vec, dtype=base_point.dtype)\n",
      "        return tangent_vec\n",
      "\n",
      "    def _pole_ladder_step(\n",
      "        self, base_point, next_point, base_shoot, return_geodesics=False, **kwargs\n",
      "    ):\n",
      "        \"\"\"Compute one Pole Ladder step.\n",
      "\n",
      "        One step of pole ladder scheme [LP2013a]_ using the geodesic to\n",
      "        transport along as main_geodesic of the parallelogram.\n",
      "\n",
      "        Parameters\n",
      "        ----------\n",
      "        base_point : array-like, shape=[..., dim]\n",
      "            Point on the manifold, from which to transport.\n",
      "        next_point : array-like, shape=[..., dim]\n",
      "            Point on the manifold, to transport to.\n",
      "        base_shoot : array-like, shape=[..., dim]\n",
      "            Point on the manifold, end point of the geodesics starting\n",
      "            from the base point with initial speed to be transported.\n",
      "        return_geodesics : bool, optional (defaults to False)\n",
      "            Whether to return the geodesics of the\n",
      "            construction.\n",
      "\n",
      "        Returns\n",
      "        -------\n",
      "        next_step : dict of array-like and callable with following keys:\n",
      "            next_tangent_vec : array-like, shape=[..., dim]\n",
      "                Tangent vector at end point.\n",
      "            end_point : array-like, shape=[..., dim]\n",
      "                Point on the manifold, closes the geodesic parallelogram of the\n",
      "                construction.\n",
      "            geodesics : list of callable, len=3 (only if\n",
      "            `return_geodesics=True`)\n",
      "                Three geodesics of the construction.\n",
      "\n",
      "        References\n",
      "        ----------\n",
      "        .. [LP2013a] Marco Lorenzi, Xavier Pennec. Efficient Parallel Transport\n",
      "         of Deformations in Time Series of Images: from Schild's to\n",
      "         Pole Ladder. Journal of Mathematical Imaging and Vision, Springer\n",
      "         Verlag, 2013,50 (1-2), pp.5-17. ⟨10.1007/s10851-013-0470-3⟩\n",
      "        \"\"\"\n",
      "        mid_tangent_vector_to_shoot = (\n",
      "            1.0 / 2.0 * self.log(base_point=base_point, point=next_point, **kwargs)\n",
      "        )\n",
      "\n",
      "        mid_point = self.exp(\n",
      "            base_point=base_point, tangent_vec=mid_tangent_vector_to_shoot, **kwargs\n",
      "        )\n",
      "\n",
      "        tangent_vector_to_shoot = -self.log(\n",
      "            base_point=mid_point, point=base_shoot, **kwargs\n",
      "        )\n",
      "\n",
      "        end_shoot = self.exp(\n",
      "            base_point=mid_point, tangent_vec=tangent_vector_to_shoot, **kwargs\n",
      "        )\n",
      "\n",
      "        geodesics = []\n",
      "        if return_geodesics:\n",
      "            main_geodesic = self.geodesic(\n",
      "                initial_point=base_point, end_point=next_point\n",
      "            )\n",
      "            diagonal = self.geodesic(initial_point=mid_point, end_point=base_shoot)\n",
      "            final_geodesic = self.geodesic(\n",
      "                initial_point=next_point, end_point=end_shoot\n",
      "            )\n",
      "            geodesics = [main_geodesic, diagonal, final_geodesic]\n",
      "        return {\"geodesics\": geodesics, \"end_point\": end_shoot}\n",
      "\n",
      "    def _schild_ladder_step(\n",
      "        self, base_point, next_point, base_shoot, return_geodesics=False, **kwargs\n",
      "    ):\n",
      "        \"\"\"Compute one Schild's Ladder step.\n",
      "\n",
      "        One step of the Schild's ladder scheme [LP2013a]_ using the geodesic to\n",
      "        transport along as one side of the parallelogram.\n",
      "\n",
      "        Parameters\n",
      "        ----------\n",
      "        base_point : array-like, shape=[..., dim]\n",
      "            Point on the manifold, from which to transport.\n",
      "        next_point : array-like, shape=[..., dim]\n",
      "            Point on the manifold, to transport to.\n",
      "        base_shoot : array-like, shape=[..., dim]\n",
      "            Point on the manifold, end point of the geodesics starting\n",
      "            from the base point with initial speed to be transported.\n",
      "        return_geodesics : bool\n",
      "            Whether to return points computed along each geodesic of the\n",
      "            construction.\n",
      "            Optional, default: False.\n",
      "\n",
      "        Returns\n",
      "        -------\n",
      "        transported_tangent_vector : array-like, shape=[..., dim]\n",
      "            Tangent vector at end point.\n",
      "        end_point : array-like, shape=[..., dim]\n",
      "            Point on the manifold, closes the geodesic parallelogram of the\n",
      "            construction.\n",
      "\n",
      "        References\n",
      "        ----------\n",
      "        .. [LP2013a] Marco Lorenzi, Xavier Pennec. Efficient Parallel Transport\n",
      "         of Deformations in Time Series of Images: from Schild's to\n",
      "         Pole Ladder. Journal of Mathematical Imaging and Vision, Springer\n",
      "         Verlag, 2013,50 (1-2), pp.5-17. ⟨10.1007/s10851-013-0470-3⟩\n",
      "        \"\"\"\n",
      "        mid_tangent_vector_to_shoot = (\n",
      "            1.0 / 2.0 * self.log(base_point=base_shoot, point=next_point, **kwargs)\n",
      "        )\n",
      "\n",
      "        mid_point = self.exp(\n",
      "            base_point=base_shoot, tangent_vec=mid_tangent_vector_to_shoot, **kwargs\n",
      "        )\n",
      "\n",
      "        tangent_vector_to_shoot = -self.log(\n",
      "            base_point=mid_point, point=base_point, **kwargs\n",
      "        )\n",
      "\n",
      "        end_shoot = self.exp(\n",
      "            base_point=mid_point, tangent_vec=tangent_vector_to_shoot, **kwargs\n",
      "        )\n",
      "\n",
      "        geodesics = []\n",
      "        if return_geodesics:\n",
      "            main_geodesic = self.geodesic(\n",
      "                initial_point=base_point, end_point=next_point\n",
      "            )\n",
      "            diagonal = self.geodesic(initial_point=base_point, end_point=end_shoot)\n",
      "            second_diagonal = self.geodesic(\n",
      "                initial_point=base_shoot, end_point=next_point\n",
      "            )\n",
      "            final_geodesic = self.geodesic(\n",
      "                initial_point=next_point, end_point=end_shoot\n",
      "            )\n",
      "            geodesics = [main_geodesic, diagonal, second_diagonal, final_geodesic]\n",
      "        return {\"geodesics\": geodesics, \"end_point\": end_shoot}\n",
      "\n",
      "    def ladder_parallel_transport(\n",
      "        self,\n",
      "        tangent_vec,\n",
      "        base_point,\n",
      "        direction,\n",
      "        n_rungs=1,\n",
      "        scheme=\"pole\",\n",
      "        alpha=1,\n",
      "        **single_step_kwargs\n",
      "    ):\n",
      "        \"\"\"Approximate parallel transport using the pole ladder scheme.\n",
      "\n",
      "        Approximate Parallel transport using either the pole ladder or the\n",
      "        Schild's ladder scheme [LP2013b]_. Pole ladder is exact in symmetric\n",
      "        spaces and of order two in general while Schild's ladder is a first\n",
      "        order approximation [GP2020]_. Both schemes are available on any affine\n",
      "        connection manifolds whose exponential and logarithm maps are\n",
      "        implemented. `tangent_vec` is transported along the geodesic starting\n",
      "        at the base_point with initial tangent vector `direction`.\n",
      "\n",
      "        Parameters\n",
      "        ----------\n",
      "        tangent_vec : array-like, shape=[..., dim]\n",
      "            Tangent vector at base point to transport.\n",
      "        direction : array-like, shape=[..., dim]\n",
      "            Tangent vector at base point, initial speed of the geodesic along\n",
      "            which to transport.\n",
      "        base_point : array-like, shape=[..., dim]\n",
      "            Point on the manifold, initial position of the geodesic along\n",
      "            which to transport.\n",
      "        n_rungs : int\n",
      "            Number of steps of the ladder.\n",
      "            Optional, default: 1.\n",
      "        scheme : str, {'pole', 'schild'}\n",
      "            The scheme to use for the construction of the ladder at each step.\n",
      "            Optional, default: 'pole'.\n",
      "        alpha : float\n",
      "            Exponent for the scaling of the vector to transport. Must be\n",
      "            greater or equal to 1, 2 is optimal. See [GP2020]_.\n",
      "            Optional, default: 2\n",
      "        **single_step_kwargs : keyword arguments for the step functions\n",
      "\n",
      "        Returns\n",
      "        -------\n",
      "        ladder : dict of array-like and callable with following keys\n",
      "            transported_tangent_vector : array-like, shape=[..., dim]\n",
      "                Approximation of the parallel transport of tangent vector a.\n",
      "            trajectory : list of list of callable, len=n_steps\n",
      "                List of lists containing the geodesics of the\n",
      "                construction, only if `return_geodesics=True` in the step\n",
      "                function. The geodesics are methods of the class connection.\n",
      "\n",
      "        References\n",
      "        ----------\n",
      "        .. [LP2013b] Lorenzi, Marco, and Xavier Pennec. “Efficient Parallel\n",
      "        Transport of Deformations in Time Series of Images: From Schild to\n",
      "        Pole Ladder.” Journal of Mathematical Imaging and Vision 50, no. 1\n",
      "        (September 1, 2014): 5–17. https://doi.org/10.1007/s10851-013-0470-3.\n",
      "\n",
      "\n",
      "        .. [GP2020] Guigui, Nicolas, and Xavier Pennec. “Numerical Accuracy\n",
      "        of Ladder Schemes for Parallel Transport on Manifolds.”\n",
      "        Foundations of Computational Mathematics, June 18, 2021.\n",
      "        https://doi.org/10.1007/s10208-021-09515-x.\n",
      "        \"\"\"\n",
      "        geomstats.errors.check_integer(n_rungs, \"n_rungs\")\n",
      "        if alpha < 1:\n",
      "            raise ValueError(\"alpha must be greater or equal to one\")\n",
      "        current_point = base_point\n",
      "        next_tangent_vec = tangent_vec / (n_rungs**alpha)\n",
      "        methods = {\"pole\": self._pole_ladder_step, \"schild\": self._schild_ladder_step}\n",
      "        single_step = methods[scheme]\n",
      "        base_shoot = self.exp(base_point=current_point, tangent_vec=next_tangent_vec)\n",
      "        trajectory = []\n",
      "        for i_point in range(n_rungs):\n",
      "            frac_tan_vector_b = (i_point + 1) / n_rungs * direction\n",
      "            next_point = self.exp(base_point=base_point, tangent_vec=frac_tan_vector_b)\n",
      "            next_step = single_step(\n",
      "                base_point=current_point,\n",
      "                next_point=next_point,\n",
      "                base_shoot=base_shoot,\n",
      "                **single_step_kwargs\n",
      "            )\n",
      "            current_point = next_point\n",
      "            base_shoot = next_step[\"end_point\"]\n",
      "            trajectory.append(next_step[\"geodesics\"])\n",
      "        transported_tangent_vec = self.log(base_shoot, current_point)\n",
      "        if n_rungs % 2 == 1 and scheme == \"pole\":\n",
      "            transported_tangent_vec *= -1.0\n",
      "        transported_tangent_vec *= n_rungs**alpha\n",
      "        return {\n",
      "            \"transported_tangent_vec\": transported_tangent_vec,\n",
      "            \"end_point\": current_point,\n",
      "            \"trajectory\": trajectory,\n",
      "        }\n",
      "\n",
      "    def curvature(self, tangent_vec_a, tangent_vec_b, tangent_vec_c, base_point):\n",
      "        r\"\"\"Compute the curvature.\n",
      "\n",
      "        For three vectors fields :math:`X|_P = tangent_vec_a,\n",
      "        Y|_P = tangent_vec_b, Z|_P = tangent_vec_c` with tangent vector\n",
      "        specified in argument at the base point :math:`P`,\n",
      "        the curvature is defined by :math:`R(X,Y)Z = \\nabla_{[X,Y]}Z\n",
      "        - \\nabla_X\\nabla_Y Z + \\nabla_Y\\nabla_X Z`.\n",
      "\n",
      "        Parameters\n",
      "        ----------\n",
      "        tangent_vec_a : array-like, shape=[..., {dim, [n, m]}]\n",
      "            Tangent vector at `base_point`.\n",
      "        tangent_vec_b : array-like, shape=[..., {dim, [n, m]}]\n",
      "            Tangent vector at `base_point`.\n",
      "        tangent_vec_c : array-like, shape=[..., {dim, [n, m]}]\n",
      "            Tangent vector at `base_point`.\n",
      "        base_point :  array-like, shape=[..., {dim, [n, m]}]\n",
      "            Point on the group. Optional, default is the identity.\n",
      "\n",
      "        Returns\n",
      "        -------\n",
      "        curvature : array-like, shape=[..., {dim, [n, m]}]\n",
      "            Tangent vector at `base_point`.\n",
      "        \"\"\"\n",
      "        raise NotImplementedError(\"The curvature is not implemented.\")\n",
      "\n",
      "    def directional_curvature(self, tangent_vec_a, tangent_vec_b, base_point):\n",
      "        \"\"\"Compute the directional curvature (tidal force operator).\n",
      "\n",
      "        For two vectors fields :math:`X|_P = tangent_vec_a`, and :math:\n",
      "        `Y|_P = tangent_vec_b` with tangent vector specified in argument at\n",
      "        the base point :math:`P`, the directional curvature, better known\n",
      "        in relativity as the tidal force operator, is defined by\n",
      "        :math:`R_Y(X) = R(Y,X)Y`.\n",
      "\n",
      "        Parameters\n",
      "        ----------\n",
      "        tangent_vec_a : array-like, shape=[..., dim]\n",
      "            Tangent vector at `base_point`.\n",
      "        tangent_vec_b : array-like, shape=[..., dim]\n",
      "            Tangent vector at `base_point`.\n",
      "        base_point :  array-like, shape=[..., dim]\n",
      "            Base-point on the manifold.\n",
      "\n",
      "        Returns\n",
      "        -------\n",
      "        directional_curvature : array-like, shape=[..., dim]\n",
      "            Tangent vector at `base_point`.\n",
      "        \"\"\"\n",
      "        return self.curvature(tangent_vec_b, tangent_vec_a, tangent_vec_b, base_point)\n",
      "\n",
      "    def curvature_derivative(\n",
      "        self,\n",
      "        tangent_vec_a,\n",
      "        tangent_vec_b,\n",
      "        tangent_vec_c,\n",
      "        tangent_vec_d,\n",
      "        base_point=None,\n",
      "    ):\n",
      "        r\"\"\"Compute the covariant derivative of the curvature.\n",
      "\n",
      "        For four vectors fields :math:`H|_P = tangent_vec_a, X|_P =\n",
      "        tangent_vec_b, Y|_P = tangent_vec_c, Z|_P = tangent_vec_d` with\n",
      "        tangent vector value specified in argument at the base point `P`,\n",
      "        the covariant derivative of the curvature\n",
      "        :math:`(\\nabla_H R)(X, Y) Z |_P` is computed at the base point P.\n",
      "\n",
      "        Parameters\n",
      "        ----------\n",
      "        tangent_vec_a : array-like, shape=[..., {dim, [n, m]}]\n",
      "            Tangent vector at `base_point`.\n",
      "        tangent_vec_b : array-like, shape=[..., {dim, [n, m]}]\n",
      "            Tangent vector at `base_point`.\n",
      "        tangent_vec_c : array-like, shape=[..., {dim, [n, m]}]\n",
      "            Tangent vector at `base_point`.\n",
      "        tangent_vec_d : array-like, shape=[..., {dim, [n, m]}]\n",
      "            Tangent vector at `base_point`.\n",
      "        base_point :  array-like, shape=[..., {dim, [n, m]}]\n",
      "            Point on the group. Optional, default is the identity.\n",
      "\n",
      "        Returns\n",
      "        -------\n",
      "        curvature_derivative : array-like, shape=[..., dim]\n",
      "            Tangent vector at base-point.\n",
      "        \"\"\"\n",
      "        raise NotImplementedError(\"The curvature is not implemented.\")\n",
      "\n",
      "    def directional_curvature_derivative(\n",
      "        self, tangent_vec_a, tangent_vec_b, base_point=None\n",
      "    ):\n",
      "        r\"\"\"Compute the covariant derivative of the directional curvature.\n",
      "\n",
      "        For two vectors fields :math:`X|_P = tangent_vec_a, Y|_P =\n",
      "        tangent_vec_b` with tangent vector value specified in argument at the\n",
      "        base point `P`, the covariant derivative (in the direction 'X')\n",
      "        :math:`(\\nabla_X R_Y)(X) |_P = (\\nabla_X R)(Y, X) Y |_P` of the\n",
      "        directional curvature (in the direction `Y`)\n",
      "        :math:`R_Y(X) = R(Y, X) Y`  is a quadratic tensor in 'X' and 'Y' that\n",
      "        plays an important role in the computation of the moments of the\n",
      "        empirical Fréchet mean.\n",
      "\n",
      "        References\n",
      "        ----------\n",
      "        .. [Pennec] Pennec, xavier. Curvature effects on the empirical mean in\n",
      "        Riemannian and affine Manifolds: a non-asymptotic high concentration\n",
      "        expansion in the small-sample regime. Preprint. June 2019.\n",
      "        https://arxiv.org/abs/1906.07418\n",
      "        \"\"\"\n",
      "        return self.curvature_derivative(\n",
      "            tangent_vec_a, tangent_vec_b, tangent_vec_a, tangent_vec_b, base_point\n",
      "        )\n",
      "\n",
      "    def geodesic(self, initial_point, end_point=None, initial_tangent_vec=None):\n",
      "        \"\"\"Generate parameterized function for the geodesic curve.\n",
      "\n",
      "        Geodesic curve defined by either:\n",
      "        - an initial point and an initial tangent vector,\n",
      "        - an initial point and an end point.\n",
      "\n",
      "        Parameters\n",
      "        ----------\n",
      "        initial_point : array-like, shape=[..., dim]\n",
      "            Point on the manifold, initial point of the geodesic.\n",
      "        end_point : array-like, shape=[..., dim], optional\n",
      "            Point on the manifold, end point of the geodesic. If None,\n",
      "            an initial tangent vector must be given.\n",
      "        initial_tangent_vec : array-like, shape=[..., dim],\n",
      "            Tangent vector at base point, the initial speed of the geodesics.\n",
      "            Optional, default: None.\n",
      "            If None, an end point must be given and a logarithm is computed.\n",
      "\n",
      "        Returns\n",
      "        -------\n",
      "        path : callable\n",
      "            Time parameterized geodesic curve. If a batch of initial\n",
      "            conditions is passed, the output array's first dimension\n",
      "            represents the different initial conditions, and the second\n",
      "            corresponds to time.\n",
      "        \"\"\"\n",
      "        point_type = self.default_point_type\n",
      "\n",
      "        if end_point is None and initial_tangent_vec is None:\n",
      "            raise ValueError(\n",
      "                \"Specify an end point or an initial tangent \"\n",
      "                \"vector to define the geodesic.\"\n",
      "            )\n",
      "        if end_point is not None:\n",
      "            shooting_tangent_vec = self.log(point=end_point, base_point=initial_point)\n",
      "            if initial_tangent_vec is not None:\n",
      "                if not gs.allclose(shooting_tangent_vec, initial_tangent_vec):\n",
      "                    raise RuntimeError(\n",
      "                        \"The shooting tangent vector is too\"\n",
      "                        \" far from the input initial tangent vector.\"\n",
      "                    )\n",
      "            initial_tangent_vec = shooting_tangent_vec\n",
      "\n",
      "        if point_type == \"vector\":\n",
      "            initial_point = gs.to_ndarray(initial_point, to_ndim=2)\n",
      "            initial_tangent_vec = gs.to_ndarray(initial_tangent_vec, to_ndim=2)\n",
      "\n",
      "        else:\n",
      "            initial_point = gs.to_ndarray(initial_point, to_ndim=3)\n",
      "            initial_tangent_vec = gs.to_ndarray(initial_tangent_vec, to_ndim=3)\n",
      "        n_initial_conditions = initial_tangent_vec.shape[0]\n",
      "\n",
      "        if n_initial_conditions > 1 and len(initial_point) == 1:\n",
      "            initial_point = gs.stack([initial_point[0]] * n_initial_conditions)\n",
      "\n",
      "        def path(t):\n",
      "            \"\"\"Generate parameterized function for geodesic curve.\n",
      "\n",
      "            Parameters\n",
      "            ----------\n",
      "            t : array-like, shape=[n_points,]\n",
      "                Times at which to compute points of the geodesics.\n",
      "            \"\"\"\n",
      "            t = gs.array(t)\n",
      "            t = gs.cast(t, initial_tangent_vec.dtype)\n",
      "            t = gs.to_ndarray(t, to_ndim=1)\n",
      "            if point_type == \"vector\":\n",
      "                tangent_vecs = gs.einsum(\"i,...k->...ik\", t, initial_tangent_vec)\n",
      "            else:\n",
      "                tangent_vecs = gs.einsum(\"i,...kl->...ikl\", t, initial_tangent_vec)\n",
      "\n",
      "            points_at_time_t = [\n",
      "                self.exp(tv, pt) for tv, pt in zip(tangent_vecs, initial_point)\n",
      "            ]\n",
      "            points_at_time_t = gs.stack(points_at_time_t, axis=0)\n",
      "\n",
      "            return (\n",
      "                points_at_time_t[0] if n_initial_conditions == 1 else points_at_time_t\n",
      "            )\n",
      "\n",
      "        return path\n",
      "\n",
      "    def parallel_transport(\n",
      "        self, tangent_vec, base_point, direction=None, end_point=None\n",
      "    ):\n",
      "        r\"\"\"Compute the parallel transport of a tangent vector.\n",
      "\n",
      "        Closed-form solution for the parallel transport of a tangent vector\n",
      "        along the geodesic between two points `base_point` and `end_point`\n",
      "        or alternatively defined by :math:`t\\mapsto exp_(base_point)(\n",
      "        t*direction)`.\n",
      "\n",
      "        Parameters\n",
      "        ----------\n",
      "        tangent_vec : array-like, shape=[..., {dim, [n, m]}]\n",
      "            Tangent vector at base point to be transported.\n",
      "        base_point : array-like, shape=[..., {dim, [n, m]}]\n",
      "            Point on the manifold. Point to transport from.\n",
      "        direction : array-like, shape=[..., {dim, [n, m]}]\n",
      "            Tangent vector at base point, along which the parallel transport\n",
      "            is computed.\n",
      "            Optional, default: None.\n",
      "        end_point : array-like, shape=[..., {dim, [n, m]}]\n",
      "            Point on the manifold. Point to transport to.\n",
      "            Optional, default: None.\n",
      "\n",
      "        Returns\n",
      "        -------\n",
      "        transported_tangent_vec: array-like, shape=[..., {dim, [n, m]}]\n",
      "            Transported tangent vector at `exp_(base_point)(tangent_vec_b)`.\n",
      "        \"\"\"\n",
      "        raise NotImplementedError(\n",
      "            \"The closed-form solution of parallel transport is not known, \"\n",
      "            \"use the ladder_parallel_transport instead.\"\n",
      "        )\n"
     ]
    }
   ],
   "source": [
    "import inspect\n",
    "\n",
    "from geomstats.geometry.connection import Connection\n",
    "for line in inspect.getsourcelines(Connection)[0]:\n",
    "    line = line.replace('\\n','')\n",
    "    print(line)\n"
   ]
  },
  {
   "cell_type": "markdown",
   "id": "f7b1814b",
   "metadata": {},
   "source": [
    "# `RiemannianMetric` Sub-Class"
   ]
  },
  {
   "cell_type": "markdown",
   "id": "0043d12d",
   "metadata": {},
   "source": [
    "The class is the only subclass of the `Connection` class. Its function in `Geomstats` is so important  that we will dedicate a whole additional section of this notebook to talking about it."
   ]
  },
  {
   "cell_type": "markdown",
   "id": "98ed7694",
   "metadata": {},
   "source": [
    "## Riemannian Metrics"
   ]
  },
  {
   "cell_type": "markdown",
   "id": "fa6822e6",
   "metadata": {},
   "source": [
    "we use this class to calculate christoffel symbols\n",
    "the metric can tell us the connection, the connection cannot tell us the metric. \n",
    "What is a metric"
   ]
  },
  {
   "cell_type": "markdown",
   "id": "73440a40",
   "metadata": {},
   "source": [
    "## `RiemannianMetric` in `Geomstats`"
   ]
  },
  {
   "cell_type": "markdown",
   "id": "6ada5067",
   "metadata": {},
   "source": []
  }
 ],
 "metadata": {
  "kernelspec": {
   "display_name": "Python 3 (ipykernel)",
   "language": "python",
   "name": "python3"
  },
  "language_info": {
   "codemirror_mode": {
    "name": "ipython",
    "version": 3
   },
   "file_extension": ".py",
   "mimetype": "text/x-python",
   "name": "python",
   "nbconvert_exporter": "python",
   "pygments_lexer": "ipython3",
   "version": "3.8.12"
  }
 },
 "nbformat": 4,
 "nbformat_minor": 5
}
